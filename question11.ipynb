{
 "cells": [
  {
   "cell_type": "markdown",
   "id": "429426bb-8f6b-4f78-af42-ccaa0cf12eb2",
   "metadata": {},
   "source": [
    "# Toney Khuon\n",
    "Notebook for assignment 7"
   ]
  },
  {
   "cell_type": "code",
   "execution_count": 20,
   "id": "c9e2c57d-cefc-42f8-85a6-406cfc8c1fa6",
   "metadata": {},
   "outputs": [
    {
     "data": {
      "text/plain": [
       "5.0"
      ]
     },
     "execution_count": 20,
     "metadata": {},
     "output_type": "execute_result"
    }
   ],
   "source": [
    "def compute_mean(list):\n",
    "    mean = sum(list) / len(list)\n",
    "    return(mean)\n",
    "\n",
    "compute_mean([2, 4, 6, 8])"
   ]
  },
  {
   "cell_type": "markdown",
   "id": "952a944d-9050-4527-b490-dbb2233aab0e",
   "metadata": {},
   "source": [
    "The code above contains a function called ***compute_mean()*** which takes a list and returns the mean value of the list, similar to the equations below:\n",
    "\n",
    "$$\\bar x = \\dfrac{x_1 + x_2 + \\cdots + x_n}{n}$$\n",
    "\n",
    "$$\\bar x = \\dfrac{1}{n} \\left(\\sum_{n=0}^{n} x_i\\right)$$ \n",
    "\n"
   ]
  }
 ],
 "metadata": {
  "kernelspec": {
   "display_name": "Python [conda env:assignment-7_env]",
   "language": "python",
   "name": "conda-env-assignment-7_env-py"
  },
  "language_info": {
   "codemirror_mode": {
    "name": "ipython",
    "version": 3
   },
   "file_extension": ".py",
   "mimetype": "text/x-python",
   "name": "python",
   "nbconvert_exporter": "python",
   "pygments_lexer": "ipython3",
   "version": "3.13.2"
  }
 },
 "nbformat": 4,
 "nbformat_minor": 5
}
